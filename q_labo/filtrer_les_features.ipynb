{
 "cells": [
  {
   "cell_type": "markdown",
   "metadata": {},
   "source": [
    "# Filtrer les features"
   ]
  },
  {
   "cell_type": "code",
   "execution_count": 1,
   "metadata": {},
   "outputs": [],
   "source": [
    "import pandas as pd"
   ]
  },
  {
   "cell_type": "code",
   "execution_count": 2,
   "metadata": {},
   "outputs": [],
   "source": [
    "pd.set_option('display.max_rows', 2)    # Afficher toutes les lignes\n",
    "pd.set_option('display.max_columns', None) # Afficher toutes les colonnes\n",
    "pd.set_option('display.width', None)       # Ajuster la largeur de l'affichage"
   ]
  },
  {
   "cell_type": "code",
   "execution_count": 3,
   "metadata": {},
   "outputs": [],
   "source": [
    "df = pd.read_csv('h5_datas.csv').drop(columns=['genre'])"
   ]
  },
  {
   "cell_type": "code",
   "execution_count": 6,
   "metadata": {},
   "outputs": [],
   "source": [
    "columns_to_keep = ['track_id', 'duration', 'end_of_fade_in', 'key', 'key_confidence', 'loudness', 'mode', 'mode_confidence', 'start_of_fade_out', 'tempo', 'time_signature', 'time_signature_confidence']\n",
    "\n",
    "df = df.loc[:,columns_to_keep]"
   ]
  },
  {
   "cell_type": "code",
   "execution_count": 7,
   "metadata": {},
   "outputs": [
    {
     "data": {
      "text/html": [
       "<div>\n",
       "<style scoped>\n",
       "    .dataframe tbody tr th:only-of-type {\n",
       "        vertical-align: middle;\n",
       "    }\n",
       "\n",
       "    .dataframe tbody tr th {\n",
       "        vertical-align: top;\n",
       "    }\n",
       "\n",
       "    .dataframe thead th {\n",
       "        text-align: right;\n",
       "    }\n",
       "</style>\n",
       "<table border=\"1\" class=\"dataframe\">\n",
       "  <thead>\n",
       "    <tr style=\"text-align: right;\">\n",
       "      <th></th>\n",
       "      <th>track_id</th>\n",
       "      <th>duration</th>\n",
       "      <th>end_of_fade_in</th>\n",
       "      <th>key</th>\n",
       "      <th>key_confidence</th>\n",
       "      <th>loudness</th>\n",
       "      <th>mode</th>\n",
       "      <th>mode_confidence</th>\n",
       "      <th>start_of_fade_out</th>\n",
       "      <th>tempo</th>\n",
       "      <th>time_signature</th>\n",
       "      <th>time_signature_confidence</th>\n",
       "    </tr>\n",
       "  </thead>\n",
       "  <tbody>\n",
       "    <tr>\n",
       "      <th>0</th>\n",
       "      <td>TRBBTOM128F42309C2</td>\n",
       "      <td>136.77669</td>\n",
       "      <td>0.473</td>\n",
       "      <td>5</td>\n",
       "      <td>0.754</td>\n",
       "      <td>-9.271</td>\n",
       "      <td>1</td>\n",
       "      <td>0.532</td>\n",
       "      <td>124.099</td>\n",
       "      <td>155.611</td>\n",
       "      <td>3</td>\n",
       "      <td>1.0</td>\n",
       "    </tr>\n",
       "    <tr>\n",
       "      <th>...</th>\n",
       "      <td>...</td>\n",
       "      <td>...</td>\n",
       "      <td>...</td>\n",
       "      <td>...</td>\n",
       "      <td>...</td>\n",
       "      <td>...</td>\n",
       "      <td>...</td>\n",
       "      <td>...</td>\n",
       "      <td>...</td>\n",
       "      <td>...</td>\n",
       "      <td>...</td>\n",
       "      <td>...</td>\n",
       "    </tr>\n",
       "    <tr>\n",
       "      <th>9999</th>\n",
       "      <td>TRANNLE128E07871BF</td>\n",
       "      <td>243.14730</td>\n",
       "      <td>0.362</td>\n",
       "      <td>10</td>\n",
       "      <td>0.146</td>\n",
       "      <td>-21.361</td>\n",
       "      <td>0</td>\n",
       "      <td>0.504</td>\n",
       "      <td>219.220</td>\n",
       "      <td>93.394</td>\n",
       "      <td>4</td>\n",
       "      <td>0.0</td>\n",
       "    </tr>\n",
       "  </tbody>\n",
       "</table>\n",
       "<p>10000 rows × 12 columns</p>\n",
       "</div>"
      ],
      "text/plain": [
       "                track_id   duration  end_of_fade_in  key  key_confidence  \\\n",
       "0     TRBBTOM128F42309C2  136.77669           0.473    5           0.754   \n",
       "...                  ...        ...             ...  ...             ...   \n",
       "9999  TRANNLE128E07871BF  243.14730           0.362   10           0.146   \n",
       "\n",
       "      loudness  mode  mode_confidence  start_of_fade_out    tempo  \\\n",
       "0       -9.271     1            0.532            124.099  155.611   \n",
       "...        ...   ...              ...                ...      ...   \n",
       "9999   -21.361     0            0.504            219.220   93.394   \n",
       "\n",
       "      time_signature  time_signature_confidence  \n",
       "0                  3                        1.0  \n",
       "...              ...                        ...  \n",
       "9999               4                        0.0  \n",
       "\n",
       "[10000 rows x 12 columns]"
      ]
     },
     "execution_count": 7,
     "metadata": {},
     "output_type": "execute_result"
    }
   ],
   "source": [
    "df"
   ]
  },
  {
   "cell_type": "code",
   "execution_count": 5,
   "metadata": {},
   "outputs": [],
   "source": [
    "# df['song_hotttnesss'].unique()"
   ]
  },
  {
   "cell_type": "markdown",
   "metadata": {},
   "source": [
    "Parmi la concaténation des 3 groupes de features 'songs':\n",
    "\n",
    "À ne pas garder:\n",
    "- analysis_sample_rate => valeur unique: 22050\n",
    "- danceability => valeur unique: 0\n",
    "- energy => valeur unique: 0\n",
    "- idx-* => valeur unique: 0\n",
    "- analyzer_version => valeur unique: 0\n",
    "\n",
    "- audio_md5 => non pertinent\n",
    "- artist 7digitalid => non pertinent\n",
    "- artist_id => non pertinent\n",
    "- artist_latitude => non pertinent\n",
    "- artist_longitude => non pertinent\n",
    "- artist_mbid => non pertinent\n",
    "- artist_playmeid => non pertinent\n",
    "- song_id => non pertinent\n",
    "- track_7digitalid => non pertinent\n",
    "- idx_artist_mbtags => non pertinent\n",
    "\n",
    "- artist_name => non récupérable depuis l'audio seulement\n",
    "- release => non récupérable depuis l'audio seulement\n",
    "- title => non récupérable à partir de l'audio\n",
    "- year => non récupérable depuis l'audio\n",
    "- artist_familiarity => non liée à l'audio\n",
    "- artist_hotttnesss => non liée à l'audio\n",
    "- artist_location => non liée à l'audio\n",
    "\n",
    "À revoir:\n",
    "- track_id => pour garder id (à ne pas garder pour le model !)\n",
    "- song_hotttnesss => c'est  quoi ?\n",
    "\n",
    "À garder: ( TODO: tester la récupération de ces features depuis un audio mp3 et/ou wav)\n",
    "- duration\n",
    "- end_of_fade_in\n",
    "- key (tonalités)\n",
    "- key_confidence\n",
    "- loudness\n",
    "- mode\n",
    "- mode_confidence\n",
    "- start_of_fade_out\n",
    "- tempo\n",
    "- time_signature\n",
    "- time_signature_confidence\n",
    "\n",
    "TODO: COMMENT EXTRAIRE CES INFORMATIONS (features) D'UN AUDIO (prédiction !) !!!\n",
    "TODO: Tester sur azure autoML\n",
    "\n",
    "\n",
    "Feature selection à faire ensuite !!!!\n",
    "\n",
    "TODO:\n",
    "Parmis les features présent dans analysis, garder:\n"
   ]
  }
 ],
 "metadata": {
  "kernelspec": {
   "display_name": ".venv",
   "language": "python",
   "name": "python3"
  },
  "language_info": {
   "codemirror_mode": {
    "name": "ipython",
    "version": 3
   },
   "file_extension": ".py",
   "mimetype": "text/x-python",
   "name": "python",
   "nbconvert_exporter": "python",
   "pygments_lexer": "ipython3",
   "version": "3.11.3"
  },
  "orig_nbformat": 4
 },
 "nbformat": 4,
 "nbformat_minor": 2
}
