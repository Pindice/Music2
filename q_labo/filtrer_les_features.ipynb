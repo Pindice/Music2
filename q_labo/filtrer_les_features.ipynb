{
 "cells": [
  {
   "cell_type": "markdown",
   "metadata": {},
   "source": [
    "# Filtrer les features"
   ]
  },
  {
   "cell_type": "code",
   "execution_count": 1,
   "metadata": {},
   "outputs": [],
   "source": [
    "import pandas as pd"
   ]
  },
  {
   "cell_type": "code",
   "execution_count": 2,
   "metadata": {},
   "outputs": [],
   "source": [
    "pd.set_option('display.max_rows', None)    # Afficher toutes les lignes\n",
    "pd.set_option('display.max_columns', None) # Afficher toutes les colonnes\n",
    "pd.set_option('display.width', None)       # Ajuster la largeur de l'affichage"
   ]
  },
  {
   "cell_type": "code",
   "execution_count": 3,
   "metadata": {},
   "outputs": [],
   "source": [
    "df = pd.read_csv('./csv/h5_datas.csv').drop(columns=['genre'])"
   ]
  },
  {
   "cell_type": "code",
   "execution_count": 4,
   "metadata": {},
   "outputs": [],
   "source": [
    "columns_to_keep = ['track_id', 'duration', 'end_of_fade_in', 'key', 'key_confidence', 'loudness', 'mode', 'mode_confidence', 'start_of_fade_out', 'tempo', 'time_signature', 'time_signature_confidence']\n",
    "\n",
    "df = df.loc[:,columns_to_keep]"
   ]
  },
  {
   "cell_type": "code",
   "execution_count": 5,
   "metadata": {},
   "outputs": [],
   "source": [
    "df.to_csv('filtered_without_label.csv', index=False)"
   ]
  },
  {
   "cell_type": "code",
   "execution_count": 6,
   "metadata": {},
   "outputs": [],
   "source": [
    "# df['song_hotttnesss'].unique()"
   ]
  },
  {
   "cell_type": "markdown",
   "metadata": {},
   "source": [
    "Parmi la concaténation des 3 groupes de features 'songs':\n",
    "\n",
    "À ne pas garder:\n",
    "- analysis_sample_rate => valeur unique: 22050\n",
    "- danceability => valeur unique: 0\n",
    "- energy => valeur unique: 0\n",
    "- idx-* => valeur unique: 0\n",
    "- analyzer_version => valeur unique: 0\n",
    "\n",
    "- audio_md5 => non pertinent\n",
    "- artist 7digitalid => non pertinent\n",
    "- artist_id => non pertinent\n",
    "- artist_latitude => non pertinent\n",
    "- artist_longitude => non pertinent\n",
    "- artist_mbid => non pertinent\n",
    "- artist_playmeid => non pertinent\n",
    "- song_id => non pertinent\n",
    "- track_7digitalid => non pertinent\n",
    "- idx_artist_mbtags => non pertinent\n",
    "\n",
    "- artist_name => non récupérable depuis l'audio seulement\n",
    "- release => non récupérable depuis l'audio seulement\n",
    "- title => non récupérable à partir de l'audio\n",
    "- year => non récupérable depuis l'audio\n",
    "- artist_familiarity => non liée à l'audio\n",
    "- artist_hotttnesss => non liée à l'audio\n",
    "- artist_location => non liée à l'audio\n",
    "\n",
    "À revoir:\n",
    "- track_id => pour garder id (à ne pas garder pour le model !)\n",
    "- song_hotttnesss => c'est  quoi ?\n",
    "\n",
    "À garder: ( TODO: tester la récupération de ces features depuis un audio mp3 et/ou wav)\n",
    "- duration\n",
    "- end_of_fade_in\n",
    "- key (tonalités)\n",
    "- key_confidence\n",
    "- loudness\n",
    "- mode\n",
    "- mode_confidence\n",
    "- start_of_fade_out\n",
    "- tempo\n",
    "- time_signature\n",
    "- time_signature_confidence\n",
    "\n",
    "TODO: COMMENT EXTRAIRE CES INFORMATIONS (features) D'UN AUDIO (prédiction !) !!!\n",
    "TODO: Tester sur azure autoML\n",
    "\n",
    "\n",
    "Feature selection à faire ensuite !!!!\n",
    "\n",
    "TODO:\n",
    "Parmis les features présent dans analysis, garder:\n"
   ]
  }
 ],
 "metadata": {
  "kernelspec": {
   "display_name": ".venv",
   "language": "python",
   "name": "python3"
  },
  "language_info": {
   "codemirror_mode": {
    "name": "ipython",
    "version": 3
   },
   "file_extension": ".py",
   "mimetype": "text/x-python",
   "name": "python",
   "nbconvert_exporter": "python",
   "pygments_lexer": "ipython3",
   "version": "3.11.3"
  },
  "orig_nbformat": 4
 },
 "nbformat": 4,
 "nbformat_minor": 2
}
