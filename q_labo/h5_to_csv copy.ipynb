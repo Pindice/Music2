{
 "cells": [
  {
   "cell_type": "code",
   "execution_count": 1,
   "metadata": {},
   "outputs": [],
   "source": [
    "import os\n",
    "import h5py\n",
    "import pandas as pd"
   ]
  },
  {
   "cell_type": "code",
   "execution_count": 2,
   "metadata": {},
   "outputs": [],
   "source": [
    "pd.set_option('display.max_rows', 4)    # Afficher toutes les lignes\n",
    "pd.set_option('display.max_columns', None) # Afficher toutes les colonnes\n",
    "pd.set_option('display.width', None)       # Ajuster la largeur de l'affichage"
   ]
  },
  {
   "cell_type": "code",
   "execution_count": 3,
   "metadata": {},
   "outputs": [],
   "source": [
    "final_df = pd.DataFrame()\n",
    "\n",
    "for folder in os.listdir('../dataset/'):\n",
    "    for folder_bis in os.listdir(f'../dataset/{folder}'):\n",
    "        for folder_ter in os.listdir(f'../dataset/{folder}/{folder_bis}'):\n",
    "            for h5_file in os.listdir(f'../dataset/{folder}/{folder_bis}/{folder_ter}'):\n",
    "\n",
    "            \n",
    "                with h5py.File(f'../dataset/{folder}/{folder_bis}/{folder_ter}/{h5_file}', 'r') as hf:\n",
    "\n",
    "                    analysis_df = pd.DataFrame(hf['analysis']['songs'][:])\n",
    "                    metadata_df = pd.DataFrame(hf['metadata']['songs'][:])\n",
    "                    musicbrainz_df = pd.DataFrame(hf['musicbrainz']['songs'][:])\n",
    "\n",
    "                    concatened_df = pd.concat([analysis_df, metadata_df, musicbrainz_df], axis=1)\n",
    "\n",
    "                    final_df = pd.concat([final_df, concatened_df], axis=0)"
   ]
  },
  {
   "cell_type": "code",
   "execution_count": 4,
   "metadata": {},
   "outputs": [],
   "source": [
    "# Decode bytes value\n",
    "for colums in ['genre','audio_md5', 'track_id', 'analyzer_version', 'artist_id', 'artist_location', 'artist_mbid', 'artist_name', 'release', 'song_id', 'title']:\n",
    "\n",
    "    final_df[colums] = final_df[colums].apply(lambda bytes_value: bytes_value.decode('utf-8'))"
   ]
  },
  {
   "cell_type": "code",
   "execution_count": 6,
   "metadata": {},
   "outputs": [],
   "source": [
    "# Save csv file\n",
    "final_df.to_csv('h5_datas.csv', index=False)"
   ]
  }
 ],
 "metadata": {
  "kernelspec": {
   "display_name": ".venv",
   "language": "python",
   "name": "python3"
  },
  "language_info": {
   "codemirror_mode": {
    "name": "ipython",
    "version": 3
   },
   "file_extension": ".py",
   "mimetype": "text/x-python",
   "name": "python",
   "nbconvert_exporter": "python",
   "pygments_lexer": "ipython3",
   "version": "3.11.3"
  },
  "orig_nbformat": 4
 },
 "nbformat": 4,
 "nbformat_minor": 2
}
