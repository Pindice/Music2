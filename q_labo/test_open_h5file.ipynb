{
 "cells": [
  {
   "cell_type": "code",
   "execution_count": 5,
   "metadata": {},
   "outputs": [],
   "source": [
    "import h5py"
   ]
  },
  {
   "cell_type": "code",
   "execution_count": 9,
   "metadata": {},
   "outputs": [
    {
     "name": "stdout",
     "output_type": "stream",
     "text": [
      "(83,)\n",
      "[0.643 0.746 0.722 0.095 0.091 0.362 0.465 0.204 0.129 0.618 0.192 0.053\n",
      " 0.855 0.236 0.616 0.008 0.113 0.155 0.027 0.593 0.707 0.453 0.434 0.059\n",
      " 0.994 0.727 0.442 0.489 0.861 0.007 0.019 0.18  0.28  0.07  0.008 0.19\n",
      " 0.1   0.038 0.074 0.076 0.185 0.002 0.023 0.074 0.393 0.163 0.119 0.048\n",
      " 0.119 0.006 0.021 0.    0.    0.    0.    0.    0.    0.    0.    0.\n",
      " 0.    0.    0.    0.    0.    0.    0.    0.    0.    0.    0.    0.\n",
      " 0.    0.    0.    0.    0.    0.    0.    0.    0.    0.    0.   ]\n"
     ]
    }
   ],
   "source": [
    "# h5py file act like a dictionary\n",
    "with h5py.File('../dataset/A/A/A/TRAAAAW128F429D538.h5', 'r') as hf:\n",
    "    group1 = hf['analysis']\n",
    "\n",
    "    dataset = group1['bars_confidence']\n",
    "\n",
    "    data = dataset[:]\n",
    "    print(dataset.shape)\n",
    "    print(data)"
   ]
  }
 ],
 "metadata": {
  "kernelspec": {
   "display_name": ".venv",
   "language": "python",
   "name": "python3"
  },
  "language_info": {
   "codemirror_mode": {
    "name": "ipython",
    "version": 3
   },
   "file_extension": ".py",
   "mimetype": "text/x-python",
   "name": "python",
   "nbconvert_exporter": "python",
   "pygments_lexer": "ipython3",
   "version": "3.11.3"
  },
  "orig_nbformat": 4
 },
 "nbformat": 4,
 "nbformat_minor": 2
}
