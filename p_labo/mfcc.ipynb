{
 "cells": [
  {
   "cell_type": "code",
   "execution_count": 3,
   "metadata": {},
   "outputs": [],
   "source": [
    "import h5py\n",
    "import numpy as np\n",
    "from python_speech_features import mfcc\n"
   ]
  },
  {
   "cell_type": "code",
   "execution_count": 4,
   "metadata": {},
   "outputs": [],
   "source": [
    "file_path = \"TRAAAAW128F429D538.h5\"  # Replace with the actual path to your HDF5 file\n",
    "with h5py.File(file_path, \"r\") as hdf5_file:\n",
    "    segments_timbre = hdf5_file[\"/analysis/segments_timbre\"][:]\n"
   ]
  },
  {
   "cell_type": "code",
   "execution_count": 5,
   "metadata": {},
   "outputs": [],
   "source": [
    "num_segments, num_features = segments_timbre.shape\n",
    "segments_timbre = segments_timbre.reshape(num_segments, -1, num_features)\n"
   ]
  },
  {
   "cell_type": "code",
   "execution_count": 7,
   "metadata": {},
   "outputs": [],
   "source": [
    "mfcc_features = []\n",
    "for segment in segments_timbre:\n",
    "    mfcc_segment = mfcc(segment, samplerate=44100, winlen=0.025, winstep=0.01, numcep=13, nfilt=26, nfft=1103, preemph=0.97)\n",
    "    mfcc_features.append(mfcc_segment)\n",
    "\n"
   ]
  },
  {
   "cell_type": "code",
   "execution_count": 8,
   "metadata": {},
   "outputs": [],
   "source": [
    "mfcc_features_array = np.array(mfcc_features)\n"
   ]
  },
  {
   "cell_type": "code",
   "execution_count": 9,
   "metadata": {},
   "outputs": [
    {
     "data": {
      "text/plain": [
       "array([[[ 9.83014622e+00, -1.48630780e+01, -1.72116928e+00, ...,\n",
       "         -6.18983704e+00,  5.75284725e+00, -4.29115170e+00]],\n",
       "\n",
       "       [[ 1.02985828e+01, -2.35420995e+00, -9.82397400e+00, ...,\n",
       "          2.81175851e+00,  1.46449399e-02, -1.40716666e+00]],\n",
       "\n",
       "       [[ 1.06044388e+01, -4.91744532e+00, -7.41590250e+00, ...,\n",
       "          5.27949143e+00, -5.43166347e+00,  4.55183268e+00]],\n",
       "\n",
       "       ...,\n",
       "\n",
       "       [[ 9.96294947e+00,  1.42591751e+00, -1.07432659e+01, ...,\n",
       "         -1.14834116e+01,  7.62842784e+00, -3.86845629e+00]],\n",
       "\n",
       "       [[ 9.32418192e+00, -5.34385269e+00,  7.72583463e+00, ...,\n",
       "          1.55779092e+01, -7.66113801e+00, -1.30484446e-01]],\n",
       "\n",
       "       [[ 9.80548701e+00, -2.15699782e+01, -9.73269271e+00, ...,\n",
       "          7.87940137e+00, -4.78772122e+00, -1.59857825e-01]]])"
      ]
     },
     "execution_count": 9,
     "metadata": {},
     "output_type": "execute_result"
    }
   ],
   "source": [
    "mfcc_features_array"
   ]
  },
  {
   "cell_type": "code",
   "execution_count": 10,
   "metadata": {},
   "outputs": [
    {
     "name": "stdout",
     "output_type": "stream",
     "text": [
      "Shape du tableau : (971, 1, 13)\n",
      "Contenu du tableau : [[[ 9.83014622e+00 -1.48630780e+01 -1.72116928e+00 ... -6.18983704e+00\n",
      "    5.75284725e+00 -4.29115170e+00]]\n",
      "\n",
      " [[ 1.02985828e+01 -2.35420995e+00 -9.82397400e+00 ...  2.81175851e+00\n",
      "    1.46449399e-02 -1.40716666e+00]]\n",
      "\n",
      " [[ 1.06044388e+01 -4.91744532e+00 -7.41590250e+00 ...  5.27949143e+00\n",
      "   -5.43166347e+00  4.55183268e+00]]\n",
      "\n",
      " ...\n",
      "\n",
      " [[ 9.96294947e+00  1.42591751e+00 -1.07432659e+01 ... -1.14834116e+01\n",
      "    7.62842784e+00 -3.86845629e+00]]\n",
      "\n",
      " [[ 9.32418192e+00 -5.34385269e+00  7.72583463e+00 ...  1.55779092e+01\n",
      "   -7.66113801e+00 -1.30484446e-01]]\n",
      "\n",
      " [[ 9.80548701e+00 -2.15699782e+01 -9.73269271e+00 ...  7.87940137e+00\n",
      "   -4.78772122e+00 -1.59857825e-01]]]\n",
      "Nombre de dimensions : 3\n",
      "Type de données : float64\n",
      "Nombre total d'éléments : 12623\n",
      "Premier élément : [[  9.83014622 -14.86307796  -1.72116928  -9.48556248   3.55019358\n",
      "   -0.66499486  -0.40272995  -1.04645036  -0.73408096   4.29175617\n",
      "   -6.18983704   5.75284725  -4.2911517 ]]\n"
     ]
    }
   ],
   "source": [
    "print(\"Shape du tableau :\", mfcc_features_array.shape)\n",
    "print(\"Contenu du tableau :\", mfcc_features_array)\n",
    "print(\"Nombre de dimensions :\", mfcc_features_array.ndim)\n",
    "print(\"Type de données :\", mfcc_features_array.dtype)\n",
    "print(\"Nombre total d'éléments :\", mfcc_features_array.size)\n",
    "print(\"Premier élément :\", mfcc_features_array[0])\n"
   ]
  }
 ],
 "metadata": {
  "kernelspec": {
   "display_name": ".venv",
   "language": "python",
   "name": "python3"
  },
  "language_info": {
   "codemirror_mode": {
    "name": "ipython",
    "version": 3
   },
   "file_extension": ".py",
   "mimetype": "text/x-python",
   "name": "python",
   "nbconvert_exporter": "python",
   "pygments_lexer": "ipython3",
   "version": "3.10.11"
  },
  "orig_nbformat": 4
 },
 "nbformat": 4,
 "nbformat_minor": 2
}
